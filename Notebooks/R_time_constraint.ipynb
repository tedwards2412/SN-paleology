{
 "cells": [
  {
   "cell_type": "markdown",
   "metadata": {},
   "source": [
    "### Here we will try to reconstruct the supernova rate as a function of time\n",
    "\n",
    "Note that whenever we need a 'benchmark' normalisation for the SN rate, we now use 3e-2/yr."
   ]
  },
  {
   "cell_type": "code",
   "execution_count": 2,
   "metadata": {},
   "outputs": [],
   "source": [
    "%matplotlib inline"
   ]
  },
  {
   "cell_type": "code",
   "execution_count": 3,
   "metadata": {},
   "outputs": [],
   "source": [
    "import numpy as np\n",
    "import matplotlib.pyplot as plt\n",
    "from matplotlib import rc\n",
    "import swordfish as sf\n",
    "from random import *\n",
    "from tqdm import tqdm\n",
    "import scipy.interpolate as interpolate\n",
    "from scipy.optimize import minimize\n",
    "from scipy.integrate import quad\n",
    "import paleopy as paleopy\n",
    "from WIMpy import DMUtils as DMU\n",
    "from scipy.special import gamma\n",
    "\n",
    "import os\n",
    "\n",
    "rc('text', usetex=True)\n",
    "rc('font',**{'family':'sans-serif','sans-serif':['cmr']})\n",
    "rc('font',**{'family':'serif','serif':['cmr']})\n",
    "rc('font', size=16)"
   ]
  },
  {
   "cell_type": "code",
   "execution_count": 4,
   "metadata": {},
   "outputs": [],
   "source": [
    "import h5py"
   ]
  },
  {
   "cell_type": "code",
   "execution_count": 5,
   "metadata": {},
   "outputs": [],
   "source": [
    "# Fermi-Dirac spectrum\n",
    "def dNdE(E, Etot, T, alpha):\n",
    "    # E is the list of energies [keV]\n",
    "    # T is the neutrino temperature [keV]\n",
    "    # Etot is the total energy emitted in the CC supernova [kev]\n",
    "    # dNdE in keV^-1\n",
    "#     dom = np.exp(E/T) + 1\n",
    "#     return Etot*120.*(E**2.)/7./(np.pi**4.)/(T**4.)/dom\n",
    "    numer = Etot*((1+alpha)**(1+alpha))*(E**alpha)*np.exp(-(1+alpha)*E/T)\n",
    "    return numer/gamma(1+alpha)/(T**(2+alpha))"
   ]
  },
  {
   "cell_type": "code",
   "execution_count": 6,
   "metadata": {},
   "outputs": [],
   "source": [
    "def inverse_transform_sampling(function, x_range, nbins=100, n_samples=1000):\n",
    "    bins = np.linspace(x_range[0], x_range[-1], num=nbins)\n",
    "    pdf = function(np.delete(bins,-1) + np.diff(bins)/2)\n",
    "    Norm = np.sum(pdf*np.diff(bins))\n",
    "    pdf /= Norm\n",
    "    cum_values = np.zeros(bins.shape)\n",
    "    cum_values[1:] = np.cumsum(pdf*np.diff(bins))\n",
    "    inv_cdf = interpolate.interp1d(cum_values, bins)\n",
    "    r = np.random.rand(n_samples)\n",
    "    return inv_cdf(r)"
   ]
  },
  {
   "cell_type": "code",
   "execution_count": 7,
   "metadata": {},
   "outputs": [],
   "source": [
    "R_E = 8.12 # kpc - Table A1 in 1807.09409 \n",
    "\n",
    "def calc_f():\n",
    "    R_gal = 50\n",
    "    N_SN = int(1e5)\n",
    "    \n",
    "    def calc_dist(x, y, z):\n",
    "        x_E = R_E\n",
    "        y_E = 0.0\n",
    "        z_E = 0.0\n",
    "        return np.sqrt((x-x_E)**2+(y-y_E)**2+(z-z_E)**2)\n",
    "    \n",
    "    phi = np.random.uniform(0,2*np.pi, size=N_SN)\n",
    "    z = np.random.exponential(scale=0.33, size=N_SN)\n",
    "    \n",
    "    # https://arxiv.org/abs/1612.07781\n",
    "    l_c = 2.5 #kpc\n",
    "    r_B = 2.0 #kpc\n",
    "    sigma_0 = 611e6 #Msun/kpc^2\n",
    "\n",
    "    def sigma_disc(r):\n",
    "        #return r*sigma_0*l_c*((r-r_B)**2 + l_c**2)**-0.5\n",
    "        r_d = 2.9 #kpc\n",
    "        return r*np.exp(-r/r_d)\n",
    "\n",
    "    x_temp = np.linspace(0,R_gal,num=100)\n",
    "    r = inverse_transform_sampling(sigma_disc, x_temp, nbins=100, n_samples=N_SN)\n",
    "    \n",
    "    theta = np.pi/2.\n",
    "    x = r * np.sin(theta) * np.cos(phi)\n",
    "    y = r * np.sin(theta) * np.sin(phi)\n",
    "    \n",
    "    for i in tqdm(range(N_SN)):\n",
    "        R = calc_dist(x, y, z)\n",
    "        \n",
    "    b_edge = np.linspace(0,R_gal,100)\n",
    "    b_c = b_edge[:-1] + np.diff(b_edge)/2\n",
    "    dist_bin = np.histogram(R, bins=b_edge, normed=True)\n",
    "    \n",
    "    f = interpolate.interp1d(b_c, dist_bin[0], bounds_error=False, fill_value=(0.0,0.0))\n",
    "    return f"
   ]
  },
  {
   "cell_type": "code",
   "execution_count": 8,
   "metadata": {},
   "outputs": [
    {
     "name": "stderr",
     "output_type": "stream",
     "text": [
      "100%|██████████| 100000/100000 [00:48<00:00, 2063.65it/s]\n",
      "/usr/local/lib/python3.6/site-packages/matplotlib/font_manager.py:1328: UserWarning: findfont: Font family ['serif'] not found. Falling back to DejaVu Sans\n",
      "  (prop.get_family(), self.defaultFamily[fontext]))\n",
      "/usr/local/lib/python3.6/site-packages/matplotlib/font_manager.py:1328: UserWarning: findfont: Font family ['serif'] not found. Falling back to DejaVu Sans\n",
      "  (prop.get_family(), self.defaultFamily[fontext]))\n",
      "/usr/local/lib/python3.6/site-packages/matplotlib/font_manager.py:1328: UserWarning: findfont: Font family ['serif'] not found. Falling back to DejaVu Sans\n",
      "  (prop.get_family(), self.defaultFamily[fontext]))\n",
      "/usr/local/lib/python3.6/site-packages/matplotlib/font_manager.py:1328: UserWarning: findfont: Font family ['serif'] not found. Falling back to DejaVu Sans\n",
      "  (prop.get_family(), self.defaultFamily[fontext]))\n"
     ]
    },
    {
     "data": {
      "image/png": "[encoded data removed]",
      "text/plain": [
       "<Figure size 432x288 with 1 Axes>"
      ]
     },
     "metadata": {},
     "output_type": "display_data"
    },
    {
     "name": "stderr",
     "output_type": "stream",
     "text": [
      "/usr/local/lib/python3.6/site-packages/scipy/integrate/quadpack.py:385: IntegrationWarning: The maximum number of subdivisions (50) has been achieved.\n",
      "  If increasing the limit yields no improvement it is advised to analyze \n",
      "  the integrand in order to determine the difficulties.  If the position of a \n",
      "  local difficulty can be determined (singularity, discontinuity) one will \n",
      "  probably gain from splitting up the interval and calling the integrator \n",
      "  on the subranges.  Perhaps a special-purpose integrator should be used.\n",
      "  warnings.warn(msg, IntegrationWarning)\n"
     ]
    }
   ],
   "source": [
    "def galactic_SN(E):\n",
    "    T_v = np.array([13.3e3,14.6e3,15.0e3,15.0e3,15.0e3,15.0e3]) # keV\n",
    "    Etot = np.array([6.0e52,4.3e52,2.0e52,2.0e52,2.0e52,2.0e52]) # ergs\n",
    "    alpha = np.array([3., 3.3, 3., 3., 3., 3.])\n",
    "#     T_v = np.array([13.3e3,13.3e3,13.3e3,13.3e3,13.3e3,13.3e3])\n",
    "#     Etot = np.array([6.0e52,6.0e52,6.0e52,6.0e52,6.0e52,6.0e52])\n",
    "    Etot *= 6.242e+8 # ergs to keV\n",
    "    F = calc_f()\n",
    "    \n",
    "    xlist = np.linspace(0, 50, 100)\n",
    "    plt.figure()\n",
    "    plt.plot(xlist, F(xlist))\n",
    "    plt.xlabel(r\"Helio-centric distance $D$ [kpc]\")\n",
    "    plt.ylabel(r\"$P(D)$ [kpc$^{-1}$]\")\n",
    "    plt.show()\n",
    "    \n",
    "    dist_weight = lambda R: F(R)/4/np.pi/((R)**2.) \n",
    "    dndE = np.zeros_like(E)\n",
    "    for i in range(6):\n",
    "        dndE += dNdE(E, Etot[i], T_v[i], alpha[i])\n",
    "    dNdE_gal = dndE*quad(dist_weight, 0., 30)[0]/(3.086e+21**2) # Convert kpc^-2 to cm^-2\n",
    "    # returns in s^-1 keV^-1 cm^-2 - assuming one CC SN per second\n",
    "    return dNdE_gal\n",
    "    \n",
    "\n",
    "Elist = np.logspace(-1,6,1000) # keV\n",
    "dndE = galactic_SN(Elist)"
   ]
  },
  {
   "cell_type": "code",
   "execution_count": 9,
   "metadata": {},
   "outputs": [
    {
     "name": "stderr",
     "output_type": "stream",
     "text": [
      "/usr/local/lib/python3.6/site-packages/matplotlib/font_manager.py:1328: UserWarning: findfont: Font family ['serif'] not found. Falling back to DejaVu Sans\n",
      "  (prop.get_family(), self.defaultFamily[fontext]))\n",
      "/usr/local/lib/python3.6/site-packages/matplotlib/font_manager.py:1328: UserWarning: findfont: Font family ['serif'] not found. Falling back to DejaVu Sans\n",
      "  (prop.get_family(), self.defaultFamily[fontext]))\n"
     ]
    },
    {
     "data": {
      "image/png": "[encoded data removed]",
      "text/plain": [
       "<Figure size 504x360 with 1 Axes>"
      ]
     },
     "metadata": {},
     "output_type": "display_data"
    }
   ],
   "source": [
    "plt.figure(figsize=(7,5))\n",
    "plt.loglog(Elist,dndE)\n",
    "plt.ylabel(r\"$d\\Phi/dE_R~\\, [\\mathrm{keV}^{-1}\\mathrm{s}^{-1}\\mathrm{cm}^{-2}]$\")\n",
    "plt.xlabel(r\"$\\mathrm{E}~\\, [\\mathrm{keV}]$\")\n",
    "# plt.ylim(0.0001,4.)\n",
    "plt.show()"
   ]
  },
  {
   "cell_type": "markdown",
   "metadata": {},
   "source": [
    "### Lets transform this into a recoil spectra"
   ]
  },
  {
   "cell_type": "code",
   "execution_count": 10,
   "metadata": {},
   "outputs": [],
   "source": [
    "dndE_gal = interpolate.interp1d(Elist*1e-3, dndE*1e3, bounds_error=False, fill_value=(0.0,0.0)) # converting keV --> MeV"
   ]
  },
  {
   "cell_type": "code",
   "execution_count": 11,
   "metadata": {},
   "outputs": [],
   "source": [
    "Epso = paleopy.Mineral(\"Epsomite\")\n",
    "dRdE = np.zeros_like(dndE)\n",
    "\n",
    "x = 0\n",
    "for nuc in Epso.nuclei:\n",
    "    dRdE += Epso.ratio_nuclei[nuc]*(np.vectorize(DMU.dRdE_CEvNS)(Elist, Epso.N_p[x], Epso.N_n[x],\n",
    "                                                                 flux_name=\"user\", flux_func = dndE_gal))\n",
    "    x += 1\n",
    "    \n",
    "# returns values in keV^-1 kg^-1 day^-1"
   ]
  },
  {
   "cell_type": "code",
   "execution_count": 12,
   "metadata": {},
   "outputs": [
    {
     "name": "stderr",
     "output_type": "stream",
     "text": [
      "/usr/local/lib/python3.6/site-packages/matplotlib/font_manager.py:1328: UserWarning: findfont: Font family ['serif'] not found. Falling back to DejaVu Sans\n",
      "  (prop.get_family(), self.defaultFamily[fontext]))\n"
     ]
    },
    {
     "data": {
      "image/png": "[encoded data removed]",
      "text/plain": [
       "<Figure size 504x360 with 1 Axes>"
      ]
     },
     "metadata": {},
     "output_type": "display_data"
    }
   ],
   "source": [
    "plt.figure(figsize=(7,5))\n",
    "plt.loglog(Elist,dRdE)\n",
    "plt.ylabel(r\"$dR/dE_R~\\, [\\mathrm{keV}^{-1}\\mathrm{kg}^{-1}\\mathrm{day}^{-1}]$\")\n",
    "plt.xlabel(r\"$\\mathrm{E}~\\, [\\mathrm{keV}]$\")\n",
    "# plt.savefig(\"../plots/recoil_rate_galactic.pdf\", bbox_inches=\"tight\")\n",
    "plt.show()"
   ]
  },
  {
   "cell_type": "markdown",
   "metadata": {},
   "source": [
    "### Now lets calculate the track length spectra"
   ]
  },
  {
   "cell_type": "code",
   "execution_count": 13,
   "metadata": {},
   "outputs": [
    {
     "name": "stdout",
     "output_type": "stream",
     "text": [
      "Mineral name: Epsomite\n",
      "    N_nuclei: 4\n",
      "    Molar mass: 246.3  g/mol\n",
      "    nucleus \t*\t abun.  *\t (N_p, N_n)\n",
      " **************************************************\n",
      "    Mg\t\t*\t0.09866017052375152\t*\t(12.0, 12.3)\n",
      "    S\t\t*\t0.12992285830288267\t*\t(16.0, 16.0)\n",
      "    O\t\t*\t0.7145757206658546\t*\t(8.0, 8.0)\n",
      "    H\t\t*\t0.05684125050751116\t*\t(1.0, 0.0)\n",
      "Plotting SRIM data for Epsomite:\n"
     ]
    },
    {
     "name": "stderr",
     "output_type": "stream",
     "text": [
      "/usr/local/lib/python3.6/site-packages/matplotlib/font_manager.py:1328: UserWarning: findfont: Font family ['serif'] not found. Falling back to DejaVu Sans\n",
      "  (prop.get_family(), self.defaultFamily[fontext]))\n"
     ]
    },
    {
     "data": {
      "image/png": "[encoded data removed]",
      "text/plain": [
       "<Figure size 720x288 with 2 Axes>"
      ]
     },
     "metadata": {},
     "output_type": "display_data"
    }
   ],
   "source": [
    "Epso.showProperties()\n",
    "Epso.showSRIM()"
   ]
  },
  {
   "cell_type": "code",
   "execution_count": 14,
   "metadata": {},
   "outputs": [],
   "source": [
    "x0 = 15.0/2.0\n",
    "x = np.logspace(0,3,num=200)\n",
    "\n",
    "dRdx_temp = np.zeros_like(x)\n",
    "for i, nuc in enumerate(Epso.nuclei):\n",
    "    if (nuc != \"H\"):\n",
    "        xtemp = Epso.Etox_nuclei[nuc](Elist)\n",
    "        dRdx_nuc = (np.vectorize(DMU.dRdE_CEvNS)(Elist, Epso.N_p[i], Epso.N_n[i], flux_name=\"user\", flux_func = dndE_gal)\n",
    "                                            *Epso.dEdx_nuclei[nuc](xtemp))\n",
    "        temp_interp = interpolate.interp1d(xtemp, dRdx_nuc, fill_value='extrapolate')\n",
    "        dRdx_temp += Epso.ratio_nuclei[nuc]*temp_interp(x)\n",
    "    \n",
    "dRdx = dRdx_temp*1e6*365+1e-20 # kg/Myr/nm\n",
    "dRdx_interp = interpolate.interp1d(x, dRdx, fill_value='extrapolate')"
   ]
  },
  {
   "cell_type": "code",
   "execution_count": 15,
   "metadata": {},
   "outputs": [
    {
     "name": "stderr",
     "output_type": "stream",
     "text": [
      "/usr/local/lib/python3.6/site-packages/matplotlib/font_manager.py:1328: UserWarning: findfont: Font family ['serif'] not found. Falling back to DejaVu Sans\n",
      "  (prop.get_family(), self.defaultFamily[fontext]))\n"
     ]
    },
    {
     "data": {
      "image/png": "[encoded data removed]",
      "text/plain": [
       "<Figure size 504x360 with 1 Axes>"
      ]
     },
     "metadata": {},
     "output_type": "display_data"
    }
   ],
   "source": [
    "plt.figure(figsize=(7,5))\n",
    "plt.loglog(x,dRdx)\n",
    "plt.ylabel(r\"$dR/dE_R~\\, [\\mathrm{nm}^{-1}\\mathrm{kg}^{-1}\\mathrm{Myr}^{-1}]$\")\n",
    "plt.xlabel(r\"$\\mathrm{x}~\\, [\\mathrm{nm}]$\")\n",
    "# plt.ylim(0.1,100)\n",
    "# plt.savefig(\"../plots/tracklength_spectra_galactic.pdf\", bbox_inches=\"tight\")\n",
    "plt.show()"
   ]
  },
  {
   "cell_type": "markdown",
   "metadata": {},
   "source": [
    "### Finally, we can estimate the minimum rate required to be detectable"
   ]
  },
  {
   "cell_type": "code",
   "execution_count": 16,
   "metadata": {},
   "outputs": [
    {
     "name": "stdout",
     "output_type": "stream",
     "text": [
      "Catching some Swordfish with Epsomite...\n",
      " DMutils.py: Loading neutrino flux for the first time...\n",
      "Loading neutrino fluxes for...\n",
      "    DSNB\n",
      "    atm\n",
      "    hep\n",
      "    8B\n",
      "    15O\n",
      "    17F\n",
      "    pep\n",
      "    13N\n",
      "    pp\n",
      "    7Be-384\n",
      "    7Be-861\n",
      "...done.\n"
     ]
    },
    {
     "name": "stderr",
     "output_type": "stream",
     "text": [
      "/usr/local/lib/python3.6/site-packages/scipy/integrate/quadpack.py:385: IntegrationWarning: The maximum number of subdivisions (50) has been achieved.\n",
      "  If increasing the limit yields no improvement it is advised to analyze \n",
      "  the integrand in order to determine the difficulties.  If the position of a \n",
      "  local difficulty can be determined (singularity, discontinuity) one will \n",
      "  probably gain from splitting up the interval and calling the integrator \n",
      "  on the subranges.  Perhaps a special-purpose integrator should be used.\n",
      "  warnings.warn(msg, IntegrationWarning)\n",
      "/usr/local/lib/python3.6/site-packages/scipy/integrate/quadpack.py:385: IntegrationWarning: The occurrence of roundoff error is detected, which prevents \n",
      "  the requested tolerance from being achieved.  The error may be \n",
      "  underestimated.\n",
      "  warnings.warn(msg, IntegrationWarning)\n"
     ]
    },
    {
     "name": "stdout",
     "output_type": "stream",
     "text": [
      "...done.\n"
     ]
    }
   ],
   "source": [
    "def MakeSF(mineral, sigma, exposure):\n",
    "    systematics = [1.0, 1.0, 1.0, 1.0, 1.0, 1.0, 1.0, 1.0, 1.0, 1.0, 1.0, 1e-2, 1e-2]\n",
    "    dRdx_BG = paleopy.GetBackground(mineral, sigma)\n",
    "    SF = sf.Swordfish(dRdx_BG, T=systematics, E=np.ones_like(dRdx_BG[0])*exposure)\n",
    "    return SF, dRdx_BG\n",
    "\n",
    "print(\"Catching some Swordfish with Epsomite...\")\n",
    "SF_Epso_15nm, Epso_bkg = MakeSF(Epso, 15.0, 100.)\n",
    "print(\"...done.\")"
   ]
  },
  {
   "cell_type": "code",
   "execution_count": 28,
   "metadata": {},
   "outputs": [
    {
     "name": "stderr",
     "output_type": "stream",
     "text": [
      "  0%|          | 0/69 [00:00<?, ?it/s]/usr/local/lib/python3.6/site-packages/scipy/integrate/quadpack.py:385: IntegrationWarning: The occurrence of roundoff error is detected, which prevents \n",
      "  the requested tolerance from being achieved.  The error may be \n",
      "  underestimated.\n",
      "  warnings.warn(msg, IntegrationWarning)\n",
      "  1%|▏         | 1/69 [00:00<00:07,  9.03it/s]/usr/local/lib/python3.6/site-packages/scipy/integrate/quadpack.py:385: IntegrationWarning: The maximum number of subdivisions (50) has been achieved.\n",
      "  If increasing the limit yields no improvement it is advised to analyze \n",
      "  the integrand in order to determine the difficulties.  If the position of a \n",
      "  local difficulty can be determined (singularity, discontinuity) one will \n",
      "  probably gain from splitting up the interval and calling the integrator \n",
      "  on the subranges.  Perhaps a special-purpose integrator should be used.\n",
      "  warnings.warn(msg, IntegrationWarning)\n",
      "100%|██████████| 69/69 [00:05<00:00, 11.69it/s]\n"
     ]
    }
   ],
   "source": [
    "from scipy.special import erf\n",
    "def window(x, x_a, x_b, sigma):\n",
    "    return 0.5*(erf((x - x_a)/(np.sqrt(2.0)*sigma)) - erf((x - x_b)/(np.sqrt(2.0)*sigma)))\n",
    "\n",
    "sigma = 15.\n",
    "x = np.logspace(np.log10(x0), 3, 70)\n",
    "#x = np.linspace(x0, 1000, 70)\n",
    "\n",
    "x_c = x[:-1] + np.diff(x)/2\n",
    "dRdx_binned = np.zeros_like(x_c)\n",
    "\n",
    "for i in tqdm(range(x_c.size)):\n",
    "    x1 = x_c[i] - 5.0*sigma\n",
    "    x2 = x_c[i] + 5.0*sigma\n",
    "    x1 = np.clip(x1, 0.1, 1e5)\n",
    "    intge = lambda y: dRdx_interp(y)*window(y, x[i], x[i+1], sigma)\n",
    "    dRdx_binned[i] = quad(intge, x1, x2)[0] + 1e-30"
   ]
  },
  {
   "cell_type": "code",
   "execution_count": 29,
   "metadata": {},
   "outputs": [
    {
     "name": "stdout",
     "output_type": "stream",
     "text": [
      "1.1188912189559948e-09\n"
     ]
    }
   ],
   "source": [
    "R0 = SF_Epso_15nm.discoveryreach(dRdx_binned, 2.87e-7)\n",
    "print(R0)"
   ]
  },
  {
   "cell_type": "markdown",
   "metadata": {},
   "source": [
    "### Euclideanized signals"
   ]
  },
  {
   "cell_type": "markdown",
   "metadata": {},
   "source": [
    "#### Generalising"
   ]
  },
  {
   "cell_type": "code",
   "execution_count": 30,
   "metadata": {},
   "outputs": [],
   "source": [
    "load_from_file = True"
   ]
  },
  {
   "cell_type": "code",
   "execution_count": 31,
   "metadata": {},
   "outputs": [
    {
     "name": "stdout",
     "output_type": "stream",
     "text": [
      "Number of SN that go off in a gigayear (if the rate is 1/s): 3.1536e+16\n",
      "5-sigma observable number of supernova (per gigayear): 35285353.48099625\n"
     ]
    }
   ],
   "source": [
    "N_Gyr = 365*24*3600*1e9\n",
    "print(\"Number of SN that go off in a gigayear (if the rate is 1/s):\", N_Gyr)\n",
    "N0 = R0*N_Gyr\n",
    "print(\"5-sigma observable number of supernova (per gigayear):\", N0)"
   ]
  },
  {
   "cell_type": "code",
   "execution_count": 32,
   "metadata": {},
   "outputs": [
    {
     "name": "stdout",
     "output_type": "stream",
     "text": [
      "1.1188912189559948e-09\n"
     ]
    }
   ],
   "source": [
    "print(R0)"
   ]
  },
  {
   "cell_type": "code",
   "execution_count": 33,
   "metadata": {},
   "outputs": [
    {
     "name": "stdout",
     "output_type": "stream",
     "text": [
      "35285353.48099625\n",
      "30000000.0\n"
     ]
    }
   ],
   "source": [
    "N_samps = 10\n",
    "lower_list = np.zeros(N_samps)\n",
    "upper_list = np.zeros(N_samps)\n",
    "med_list = np.zeros(N_samps)\n",
    "\n",
    "exp_list = np.linspace(0.1, 1.0, N_samps)*1e3*0.1\n",
    "R_bench_Gyr = 3e-2*1e9 #Benchmark rate per Gyr\n",
    "print(N0)\n",
    "print(R_bench_Gyr) #This is the rate per Gyr (normalised to 3e-2 SN per year, or roughly one every 33 years)"
   ]
  },
  {
   "cell_type": "code",
   "execution_count": 34,
   "metadata": {},
   "outputs": [
    {
     "name": "stderr",
     "output_type": "stream",
     "text": [
      "/usr/local/lib/python3.6/site-packages/scipy/integrate/quadpack.py:385: IntegrationWarning: The maximum number of subdivisions (50) has been achieved.\n",
      "  If increasing the limit yields no improvement it is advised to analyze \n",
      "  the integrand in order to determine the difficulties.  If the position of a \n",
      "  local difficulty can be determined (singularity, discontinuity) one will \n",
      "  probably gain from splitting up the interval and calling the integrator \n",
      "  on the subranges.  Perhaps a special-purpose integrator should be used.\n",
      "  warnings.warn(msg, IntegrationWarning)\n",
      "/usr/local/lib/python3.6/site-packages/scipy/integrate/quadpack.py:385: IntegrationWarning: The occurrence of roundoff error is detected, which prevents \n",
      "  the requested tolerance from being achieved.  The error may be \n",
      "  underestimated.\n",
      "  warnings.warn(msg, IntegrationWarning)\n"
     ]
    }
   ],
   "source": [
    "systematics = [1.0, 1.0, 1.0, 1.0, 1.0, 1.0, 1.0, 1.0, 1.0, 1.0, 1.0, 1e-2, 1e-2]\n",
    "dRdx_BG = paleopy.GetBackground(Epso, sigma=15.0)"
   ]
  },
  {
   "cell_type": "code",
   "execution_count": 35,
   "metadata": {},
   "outputs": [
    {
     "name": "stdout",
     "output_type": "stream",
     "text": [
      "Exposure: 10.0\n",
      "    Loading from file...\n",
      "Initializing ball trees for nearest neighbour searches...\n",
      "...done!\n",
      "Exposure: 20.0\n",
      "    Loading from file...\n",
      "Initializing ball trees for nearest neighbour searches...\n",
      "...done!\n",
      "Exposure: 30.000000000000007\n",
      "    Loading from file...\n",
      "Initializing ball trees for nearest neighbour searches...\n",
      "...done!\n",
      "Exposure: 40.0\n",
      "    Loading from file...\n",
      "Initializing ball trees for nearest neighbour searches...\n",
      "...done!\n",
      "Exposure: 50.0\n",
      "    Loading from file...\n",
      "Initializing ball trees for nearest neighbour searches...\n",
      "...done!\n",
      "Exposure: 60.0\n",
      "    Loading from file...\n",
      "Initializing ball trees for nearest neighbour searches...\n",
      "...done!\n",
      "Exposure: 70.00000000000001\n",
      "    Loading from file...\n",
      "Initializing ball trees for nearest neighbour searches...\n",
      "...done!\n",
      "Exposure: 80.0\n",
      "    Loading from file...\n",
      "Initializing ball trees for nearest neighbour searches...\n",
      "...done!\n",
      "Exposure: 90.0\n",
      "    Loading from file...\n",
      "Initializing ball trees for nearest neighbour searches...\n",
      "...done!\n",
      "Exposure: 100.0\n",
      "    Loading from file...\n",
      "Initializing ball trees for nearest neighbour searches...\n",
      "...done!\n"
     ]
    }
   ],
   "source": [
    "#Assuming a constant merger rate of R_Gyr\n",
    "\n",
    "for i, e in enumerate(exp_list):\n",
    "    print(\"Exposure:\", e)\n",
    "\n",
    "    ESfile = \"../ES/hdf5/Epso_15nm_exp{:.1f}_C238_0.01.hdf5\".format(e)\n",
    "    \n",
    "    if (load_from_file and os.path.isfile(ESfile)):\n",
    "        print(\"    Loading from file...\")\n",
    "        \n",
    "    else:\n",
    "        print(\"    Calculating from scratch...\")\n",
    "    \n",
    "        SF_Epso_15nm = sf.Swordfish(dRdx_BG, T=systematics, E=np.ones_like(dRdx_BG[0])*e)\n",
    "    \n",
    "        N_SN = np.logspace(np.log10(R_bench_Gyr/100), np.log10(R_bench_Gyr*100), 2500)\n",
    "    \n",
    "        ES = []\n",
    "        N_SN_save = []\n",
    "    \n",
    "        for N in tqdm(N_SN, desc=\"Euclideanizing these bad-boys\"):\n",
    "            ES_temp = SF_Epso_15nm.euclideanizedsignal(dRdx_binned*N/N_Gyr) #Divide through by number of seconds/Gyr and multiply by rate per Gyr\n",
    "            N_SN_save.append(N)\n",
    "            ES.append(ES_temp)\n",
    "\n",
    "        # Output to new hdf5\n",
    "        hf = h5py.File(ESfile, 'w')\n",
    "        hf.create_dataset('ES', data=ES)\n",
    "        hf.create_dataset('N_SN', data=N_SN_save)\n",
    "        hf.close()\n",
    "    \n",
    "    assert os.path.isfile(ESfile), \"File not found: \" + ESfile\n",
    "\n",
    "    #Load results from file\n",
    "    root = h5py.File(ESfile)\n",
    "    ES = np.array(root['ES'])\n",
    "    N_SN_0 = np.array(root['N_SN'])\n",
    "    N_SN = np.zeros([N_SN_0.shape[0],1])\n",
    "    N_SN[:,0] = N_SN_0\n",
    "    root.close()\n",
    "    \n",
    "    \n",
    "    #Find errorsbars\n",
    "    shEps = sf.SignalHandler(N_SN, ES, verbose=True)\n",
    "    P0 = [R_bench_Gyr]\n",
    "    pp, el_ind = shEps.query_region(P0, sigma=2.0, d=1, return_indices=True)\n",
    "    lower = np.min(pp)\n",
    "    upper = np.max(pp)\n",
    "    lower_list[i] = lower\n",
    "    upper_list[i] = upper\n",
    "    med_list[i] = R_bench_Gyr"
   ]
  },
  {
   "cell_type": "code",
   "execution_count": 36,
   "metadata": {},
   "outputs": [
    {
     "name": "stderr",
     "output_type": "stream",
     "text": [
      "/usr/local/lib/python3.6/site-packages/matplotlib/font_manager.py:1328: UserWarning: findfont: Font family ['serif'] not found. Falling back to DejaVu Sans\n",
      "  (prop.get_family(), self.defaultFamily[fontext]))\n"
     ]
    },
    {
     "data": {
      "image/png": "[encoded data removed]",
      "text/plain": [
       "<Figure size 432x288 with 1 Axes>"
      ]
     },
     "metadata": {},
     "output_type": "display_data"
    }
   ],
   "source": [
    "plt.figure()\n",
    "\n",
    "exp_list_dense = np.linspace(0.1, 1, 1000)\n",
    "\n",
    "plt.plot(exp_list_dense, R_bench_Gyr + 0.0*exp_list_dense, color='grey', linestyle=':')\n",
    "\n",
    "plt.errorbar(exp_list/100, med_list, yerr=[med_list-lower_list, upper_list-med_list],fmt='o')\n",
    "\n",
    "plt.xlabel(r'Mineral age $t_\\mathrm{age}$ [Gyr]')\n",
    "plt.ylabel('Average Supernova Rate\\n(over the last $t_\\\\mathrm{age}$) [Gyr$^{-1}$]')\n",
    "\n",
    "# plt.savefig(\"../plots/ReconstructedRate.pdf\", bbox_inches='tight')\n",
    "plt.show()"
   ]
  },
  {
   "cell_type": "code",
   "execution_count": 37,
   "metadata": {},
   "outputs": [
    {
     "name": "stderr",
     "output_type": "stream",
     "text": [
      "/usr/local/lib/python3.6/site-packages/matplotlib/font_manager.py:1328: UserWarning: findfont: Font family ['serif'] not found. Falling back to DejaVu Sans\n",
      "  (prop.get_family(), self.defaultFamily[fontext]))\n"
     ]
    },
    {
     "data": {
      "image/png": "[encoded data removed]",
      "text/plain": [
       "<Figure size 432x288 with 1 Axes>"
      ]
     },
     "metadata": {},
     "output_type": "display_data"
    }
   ],
   "source": [
    "plt.figure()\n",
    "\n",
    "exp_list_dense = np.linspace(0.1, 1, 1000)\n",
    "\n",
    "plt.plot(exp_list_dense, R_bench_Gyr*exp_list_dense, color='grey', linestyle=':')\n",
    "plt.errorbar(exp_list/100, med_list*exp_list/100, yerr=[(med_list-lower_list)*exp_list/100, (upper_list-med_list)*exp_list/100],fmt='o')\n",
    "\n",
    "\n",
    "plt.xlabel(r'Mineral age $t_\\mathrm{age}$ [Gyr]')\n",
    "plt.ylabel('Number of Galactic SN\\n(over the last $t_\\\\mathrm{age}$)')\n",
    "\n",
    "plt.gca().set_yscale('log')\n",
    "\n",
    "# plt.savefig(\"../plots/ReconstructedN_SN.pdf\", bbox_inches='tight')\n",
    "\n",
    "plt.show()"
   ]
  },
  {
   "cell_type": "markdown",
   "metadata": {},
   "source": [
    "### Error bars for the average SN rate"
   ]
  },
  {
   "cell_type": "code",
   "execution_count": 38,
   "metadata": {},
   "outputs": [
    {
     "name": "stdout",
     "output_type": "stream",
     "text": [
      "Initializing ball trees for nearest neighbour searches...\n",
      "...done!\n",
      "1sigma error in units of 1e-2 SN/yr: 0.7203217504414461 0.7218486607337549\n",
      "Initializing ball trees for nearest neighbour searches...\n",
      "...done!\n",
      "1sigma error in units of 1e-2 SN/yr: 0.27915195420886807 0.2834993979586309\n"
     ]
    }
   ],
   "source": [
    "#Error bars for an exposure of 1 Gyr and 0.01 ppb\n",
    "\n",
    "ESfile = \"../ES/hdf5/Epso_15nm_exp100.0_C238_0.01.hdf5\"\n",
    "\n",
    "#Load results from file\n",
    "root = h5py.File(ESfile)\n",
    "ES = np.array(root['ES'])\n",
    "N_SN_0 = np.array(root['N_SN'])\n",
    "N_SN = np.zeros([N_SN_0.shape[0],1])\n",
    "N_SN[:,0] = N_SN_0\n",
    "root.close()\n",
    "    \n",
    "    \n",
    "#Find errorsbars\n",
    "shEps = sf.SignalHandler(N_SN, ES, verbose=True)\n",
    "P0 = [R_bench_Gyr]\n",
    "pp, el_ind = shEps.query_region(P0, sigma=1.0, d=1, return_indices=True)\n",
    "lower = np.min(pp)\n",
    "upper = np.max(pp)\n",
    "print(\"1sigma error in units of 1e-2 SN/yr:\", 3 - lower/1e7, upper/1e7 - 3)\n",
    "\n",
    "#Error bars for an exposure of 1 Gyr and 0.001 ppb\n",
    "\n",
    "ESfile = \"../ES/hdf5/Epso_15nm_exp100.0_C238_0.001.hdf5\"\n",
    "\n",
    "#Load results from file\n",
    "root = h5py.File(ESfile)\n",
    "ES = np.array(root['ES'])\n",
    "N_SN_0 = np.array(root['N_SN'])\n",
    "N_SN = np.zeros([N_SN_0.shape[0],1])\n",
    "N_SN[:,0] = N_SN_0\n",
    "root.close()\n",
    "    \n",
    "    \n",
    "#Find errorsbars\n",
    "shEps = sf.SignalHandler(N_SN, ES, verbose=True)\n",
    "P0 = [R_bench_Gyr]\n",
    "pp, el_ind = shEps.query_region(P0, sigma=1.0, d=1, return_indices=True)\n",
    "lower = np.min(pp)\n",
    "upper = np.max(pp)\n",
    "print(\"1sigma error in units of 1e-2 SN/yr:\",3 - lower/1e7, upper/1e7 - 3)"
   ]
  },
  {
   "cell_type": "markdown",
   "metadata": {},
   "source": [
    "### Opal Fruits"
   ]
  },
  {
   "cell_type": "code",
   "execution_count": 39,
   "metadata": {},
   "outputs": [],
   "source": [
    "#Including a star burst at \n",
    "\n",
    "#t_star in Gyr\n",
    "def calcConstraints(R_list, C238=0.01, verbose = False):\n",
    "    assert (len(R_list) == N_samps)\n",
    "    \n",
    "    lower_list = np.zeros(N_samps)\n",
    "    upper_list = np.zeros(N_samps)\n",
    "    med_list = np.zeros(N_samps)\n",
    "    for i, e in enumerate(exp_list):\n",
    "        if verbose:\n",
    "            print(\"Exposure:\", e)\n",
    "\n",
    "        ESfile = \"../ES/hdf5/Epso_15nm_exp{:.1f}_C238_{}.hdf5\".format(e, C238)\n",
    "        \n",
    "        if (load_from_file and os.path.isfile(ESfile)):\n",
    "            if verbose:\n",
    "                print(\"    Loading from file...\")\n",
    "\n",
    "        else:\n",
    "            if verbose:\n",
    "                print(\"    Calculating from scratch...\")\n",
    "\n",
    "            #Initialise swordfish object\n",
    "            systematics = [1.0, 1.0, 1.0, 1.0, 1.0, 1.0, 1.0, 1.0, 1.0, 1.0, 1.0, 1e-2, 1e-2]\n",
    "            Epso = paleopy.Mineral(\"Epsomite\")\n",
    "            Epso.U_frac = C238*1e-9\n",
    "            dRdx_BG = paleopy.GetBackground(Epso, sigma=15.0)\n",
    "            SF_Epso_15nm = sf.Swordfish(dRdx_BG, T=systematics, E=np.ones_like(dRdx_BG[0])*e)\n",
    "\n",
    "            N_SN = np.logspace(np.log10(R_bench_Gyr/100), np.log10(R_bench_Gyr*100), 2500)\n",
    "\n",
    "            ES = []\n",
    "            N_SN_save = []\n",
    "\n",
    "            for N in tqdm(N_SN, desc=\"Euclideanizing these bad-boys\"):\n",
    "                ES_temp = SF_Epso_15nm.euclideanizedsignal(dRdx_binned*N/N_Gyr) #Divide through by number of seconds/Gyr and multiply by rate per Gyr\n",
    "                N_SN_save.append(N)\n",
    "                ES.append(ES_temp)\n",
    "\n",
    "            # Output to new hdf5\n",
    "            hf = h5py.File(ESfile, 'w')\n",
    "            hf.create_dataset('ES', data=ES)\n",
    "            hf.create_dataset('N_SN', data=N_SN_save)\n",
    "            hf.close()\n",
    "\n",
    "        assert os.path.isfile(ESfile), \"File not found: \" + ESfile\n",
    "\n",
    "        #Load results from file\n",
    "        root = h5py.File(ESfile)\n",
    "        ES = np.array(root['ES'])\n",
    "        N_SN_0 = np.array(root['N_SN'])\n",
    "        N_SN = np.zeros([N_SN_0.shape[0],1])\n",
    "        N_SN[:,0] = N_SN_0\n",
    "\n",
    "        #Find errorsbars\n",
    "        shEps = sf.SignalHandler(N_SN, ES, verbose=False)\n",
    "        \n",
    "        #Calculate average SN rate over age of the rock\n",
    "        #R_avg = R0\n",
    "        #t_age = e/100.0\n",
    "        #if (t_star < t_age):\n",
    "        #    R_avg += N_star/t_age\n",
    "        \n",
    "        P0 = [R_list[i]]\n",
    "        pp, el_ind = shEps.query_region(P0, sigma=1.0, d=1, return_indices=True)\n",
    "        lower = np.min(pp)\n",
    "        upper = np.max(pp)\n",
    "        lower_list[i] = lower\n",
    "        upper_list[i] = upper\n",
    "        med_list[i] = R_list[i]\n",
    "        \n",
    "    return med_list, lower_list, upper_list"
   ]
  },
  {
   "cell_type": "markdown",
   "metadata": {},
   "source": [
    "#### Detectable starburst rate"
   ]
  },
  {
   "cell_type": "code",
   "execution_count": 42,
   "metadata": {},
   "outputs": [],
   "source": [
    "@np.vectorize\n",
    "def CalcR(R_0, N_tilde, t_star, t_age):\n",
    "    R = R_0\n",
    "    if (t_age > t_star):\n",
    "        R += N_tilde/t_age\n",
    "    return R"
   ]
  },
  {
   "cell_type": "code",
   "execution_count": 44,
   "metadata": {},
   "outputs": [],
   "source": [
    "def Gauss_min(R, R_obs, sigma):\n",
    "    return sum((R-R_obs)**2/sigma)\n",
    "\n",
    "def Distinguish_sig(R_list, C238=0.01, do_plot=False, filename=None):\n",
    "    \n",
    "    med_list, lower_list, upper_list = calcConstraints(R_list, C238, verbose=False)  \n",
    "        \n",
    "    sigma = (upper_list-lower_list)/2\n",
    "    Rc_bf = minimize(Gauss_min, med_list[0], args=(med_list,sigma)).x\n",
    "\n",
    "    #Calculate Euclideanised signals\n",
    "    \n",
    "    ES_const = []\n",
    "    ES_alt = []\n",
    "    \n",
    "    for i, e in enumerate(exp_list):\n",
    "        ESfile = \"../ES/hdf5/Epso_15nm_exp{:.1f}_C238_{}.hdf5\".format(e, C238)\n",
    "        root = h5py.File(ESfile)\n",
    "        ES = np.array(root['ES'])\n",
    "        N_SN_0 = np.array(root['N_SN'])\n",
    "        N_SN = np.zeros([N_SN_0.shape[0],1])\n",
    "        N_SN[:,0] = N_SN_0\n",
    "\n",
    "        shEps = sf.SignalHandler(N_SN, ES, verbose=False)\n",
    "        \n",
    "        #Find ES for 'constant rate'\n",
    "        P0 = Rc_bf\n",
    "        pp, el_ind, dists = shEps.query_region(P0, sigma=1.0, d=1, return_indices=False, return_distance = True)\n",
    "        ES_const.append(ES[el_ind[np.argmin(dists)]])\n",
    "\n",
    "        #Find ES for 'alternative rate'\n",
    "        P0 = [R_list[i]]\n",
    "        pp, el_ind, dists = shEps.query_region(P0, sigma=1.0, d=1, return_indices=False, return_distance = True)\n",
    "        ES_alt.append(ES[el_ind[np.argmin(dists)]])\n",
    "    \n",
    "    ES_const = np.array(ES_const)\n",
    "    ES_alt = np.array(ES_alt)\n",
    "    \n",
    "    \n",
    "    if (do_plot):\n",
    "        plt.figure(figsize=(7,5))\n",
    "\n",
    "        exp_list_dense = np.linspace(0.1, 1, 1000)\n",
    "        #plt.axhline(med_list[-1], color='grey', linestyle=':')\n",
    "        plt.axhline(Rc_bf, color='grey', linestyle=':')\n",
    "        #plt.fill_between(exp_list/100, lower_list[-1], upper_list[-1], color='grey', alpha=0.5)\n",
    "\n",
    "        plt.errorbar(exp_list/100, med_list, yerr=[med_list-lower_list, upper_list-med_list],fmt='o',label='w/o starburst')\n",
    "\n",
    "        plt.xlabel(r'Mineral age $t_\\mathrm{age}$ [Gyr]')\n",
    "        plt.ylabel('Average Supernova Rate\\n(over the last $t_\\\\mathrm{age}$) [Gyr$^{-1}$]')\n",
    "\n",
    "        #plt.legend(loc='best')\n",
    "        #plt.text(0.95, 0.90, r\"$t_\\star = \" + str(t_star) + r\" \\,\\mathrm{Gyr}$, $\\tilde{N} = \" + str(N_tilde) + \"$\", fontsize=18.,transform=plt.gca().transAxes, ha='right')\n",
    "#         if (filename is not None):\n",
    "#             plt.savefig(\"../plots/\" + filename, bbox_inches='tight')\n",
    "        plt.show()  \n",
    "    \n",
    "    D = np.sqrt(np.sum((ES_const - ES_alt)**2))\n",
    "    return D\n",
    "    "
   ]
  },
  {
   "cell_type": "code",
   "execution_count": 45,
   "metadata": {},
   "outputs": [
    {
     "name": "stderr",
     "output_type": "stream",
     "text": [
      "/usr/local/lib/python3.6/site-packages/matplotlib/font_manager.py:1328: UserWarning: findfont: Font family ['serif'] not found. Falling back to DejaVu Sans\n",
      "  (prop.get_family(), self.defaultFamily[fontext]))\n"
     ]
    },
    {
     "data": {
      "image/png": "[encoded data removed]",
      "text/plain": [
       "<Figure size 504x360 with 1 Axes>"
      ]
     },
     "metadata": {},
     "output_type": "display_data"
    },
    {
     "data": {
      "text/plain": [
       "5.587239492653905"
      ]
     },
     "execution_count": 45,
     "metadata": {},
     "output_type": "execute_result"
    }
   ],
   "source": [
    "R1 = np.ones(10)*R_bench_Gyr\n",
    "R1[3] = R_bench_Gyr*3\n",
    "Distinguish_sig(R1, do_plot=True)"
   ]
  },
  {
   "cell_type": "code",
   "execution_count": 47,
   "metadata": {},
   "outputs": [],
   "source": [
    "t_star_list = np.linspace(0.05, 0.95, 10)\n",
    "Ntilde_list = np.logspace(6, 9, 200)\n",
    "\n",
    "def GetNmin(C238=0.01):\n",
    "    infile = \"../data/results/Ntilde_vs_tstar_C238_\" + str(C238) + \".txt\"\n",
    "    if (os.path.isfile(infile)):\n",
    "        tstar1, Ntilde1 = np.loadtxt(infile, unpack=True)\n",
    "    else:\n",
    "        \n",
    "        distinguish_list = np.zeros_like(t_star_list)\n",
    "\n",
    "        for i,t in enumerate(t_star_list):\n",
    "            print(i)\n",
    "            \n",
    "            dist_sig = 0.0\n",
    "            for N in Ntilde_list:\n",
    "                R_list = CalcR(R_0=R_bench_Gyr, N_tilde=N, t_star=t, t_age=np.linspace(0.1, 1, 10))\n",
    "                #print(R_list)\n",
    "                dist_sig = Distinguish_sig(R_list, C238=C238, do_plot=False)\n",
    "                if (dist_sig > 3.0):\n",
    "                    distinguish_list[i] = N\n",
    "                    break\n",
    "\n",
    "        tstar1 = np.append(t_star_list, 1.05)\n",
    "        tstar1 = np.append( -0.05,tstar1)\n",
    "        Ntilde1 = np.append(distinguish_list, 0.0)\n",
    "        Ntilde1 = np.append(0.0, Ntilde1)\n",
    "        np.savetxt(\"../data/results/Ntilde_vs_tstar_C238_\" + str(C238) + \".txt\", list(zip(tstar1, Ntilde1)))\n",
    "    \n",
    "    return tstar1, Ntilde1\n",
    "        "
   ]
  },
  {
   "cell_type": "code",
   "execution_count": 48,
   "metadata": {},
   "outputs": [
    {
     "name": "stderr",
     "output_type": "stream",
     "text": [
      "/usr/local/lib/python3.6/site-packages/matplotlib/font_manager.py:1328: UserWarning: findfont: Font family ['serif'] not found. Falling back to DejaVu Sans\n",
      "  (prop.get_family(), self.defaultFamily[fontext]))\n"
     ]
    },
    {
     "data": {
      "image/png": "[encoded data removed]",
      "text/plain": [
       "<Figure size 504x360 with 1 Axes>"
      ]
     },
     "metadata": {},
     "output_type": "display_data"
    }
   ],
   "source": [
    "plt.figure(figsize=(7,5))\n",
    "\n",
    "#plt.axhline(2.3e-2, linestyle='--', color='grey')\n",
    "#plt.axhline(3.2e-2, linestyle='--', color='grey')\n",
    "\n",
    "#plt.plot(tstar1, Ntilde1, 'o')\n",
    "for C in [0.001, 0.01, 0.1, 1.0]:\n",
    "#for C in [ 0.01]:\n",
    "    ts, Nt = GetNmin(C238=C)\n",
    "    plt.step(ts, Nt, where='mid')#,label=r\"$C_{238}$ = \" + str(C) + \" ppb\")\n",
    "\n",
    "plt.xlabel(r'Burst look-back time $t_\\star$ [Gyr]')\n",
    "plt.ylabel(r'Minimum Detectable $\\tilde{N}$')\n",
    "#plt.legend(loc='upper left')\n",
    "\n",
    "plt.text(0.98, 2.3e8, \"$C_{238}$ = 1 ppb\", va='bottom',ha='right')\n",
    "plt.text(0.98, 8.0e7, \"$C_{238}$ = 0.1 ppb\", va='bottom',ha='right')\n",
    "plt.text(0.98, 2.5e7, \"$C_{238}$ = 0.01 ppb\", va='bottom',ha='right')\n",
    "plt.text(0.98, 1.0e7, \"$C_{238}$ = 0.001 ppb\", va='bottom',ha='right')\n",
    "\n",
    "#plt.text(0.05, 0.95, \"Epsomite, M = 100 g, $t_\\mathrm{age} = 1$ Gyr\", \n",
    "#            va='top',ha='left', transform=plt.gca().transAxes)\n",
    "#$C_{238} = 0.01$ ppb\n",
    "plt.text(0.95, 0.05, \"Epsomite, M = 100 g\\n10 samples, $\\\\Delta t_\\\\mathrm{age} = 0.1$ Gyr\", \n",
    "            va='bottom',ha='right', transform=plt.gca().transAxes)\n",
    "\n",
    "plt.text(0.4, 3.1e7, r\"$R_0 \\times 1\\,\\mathrm{Gyr}$\" ,  va='bottom',ha='center', color='grey')\n",
    "plt.axhline(3e7, color='grey', linestyle='--', zorder=0)\n",
    "\n",
    "#------------\n",
    "\n",
    "plt.gca().set_yscale('log')\n",
    "\n",
    "plt.xlim(0,1)\n",
    "plt.ylim(1e6, 1e9)\n",
    "#plt.ylim(5e-3, 1)\n",
    "#plt.gca().tick_params(axis='x', which='major', pad=8)\n",
    "\n",
    "# plt.savefig('../plots/N_min_vs_t_star.pdf', bbox_inches='tight')\n",
    "plt.show()"
   ]
  },
  {
   "cell_type": "markdown",
   "metadata": {},
   "source": [
    "### Translating the starburst parameters\n",
    "\n",
    "$$ \n",
    "\\begin{align}\n",
    "    \\Phi_\\mathrm{gal} &\\propto \\tilde{N} \\langle D^{-2} \\rangle \\\\\n",
    "    \\Phi_\\star &\\propto N_\\star D_\\star^{-2}\n",
    "\\end{align}\n",
    "$$\n",
    "\n",
    "Starburst durations could be short (~5-10 Myrs) or long (100s of Myr). \n",
    "\n",
    "For short ones, see https://arxiv.org/abs/astro-ph/0003334 or https://arxiv.org/abs/astro-ph/0311485.\n",
    "\n",
    "But see also https://arxiv.org/abs/1009.2940 for a discussion of possibly longer star-bursts."
   ]
  },
  {
   "cell_type": "code",
   "execution_count": 50,
   "metadata": {},
   "outputs": [],
   "source": [
    "def AverageFluxDistance():\n",
    "    F = calc_f()\n",
    "    \n",
    "    dist_weight = lambda R: F(R)/4/np.pi/((R)**2.) \n",
    "    assert (quad(F, 0, 1e3)[0] - 1)**2 < 1e-3\n",
    "    return quad(dist_weight, 0., 30)[0]"
   ]
  },
  {
   "cell_type": "code",
   "execution_count": 51,
   "metadata": {},
   "outputs": [
    {
     "name": "stderr",
     "output_type": "stream",
     "text": [
      "100%|██████████| 100000/100000 [00:56<00:00, 1769.38it/s]\n",
      "/usr/local/lib/python3.6/site-packages/scipy/integrate/quadpack.py:385: IntegrationWarning: The maximum number of subdivisions (50) has been achieved.\n",
      "  If increasing the limit yields no improvement it is advised to analyze \n",
      "  the integrand in order to determine the difficulties.  If the position of a \n",
      "  local difficulty can be determined (singularity, discontinuity) one will \n",
      "  probably gain from splitting up the interval and calling the integrator \n",
      "  on the subranges.  Perhaps a special-purpose integrator should be used.\n",
      "  warnings.warn(msg, IntegrationWarning)\n"
     ]
    }
   ],
   "source": [
    "#This is the average value of 1/R^2 over the entire Galaxy\n",
    "Flux_Gal = AverageFluxDistance()"
   ]
  },
  {
   "cell_type": "code",
   "execution_count": 52,
   "metadata": {},
   "outputs": [
    {
     "name": "stdout",
     "output_type": "stream",
     "text": [
      "0.002515914005821105\n"
     ]
    }
   ],
   "source": [
    "print(Flux_Gal)"
   ]
  },
  {
   "cell_type": "code",
   "execution_count": 53,
   "metadata": {},
   "outputs": [],
   "source": [
    "def calcNbar(N_star, D_star):\n",
    "    return N_star/(Flux_Gal*4*np.pi*D_star**2)"
   ]
  },
  {
   "cell_type": "code",
   "execution_count": 54,
   "metadata": {},
   "outputs": [
    {
     "data": {
      "text/plain": [
       "1.0532542645002947"
      ]
     },
     "execution_count": 54,
     "metadata": {},
     "output_type": "execute_result"
    }
   ],
   "source": [
    "calcNbar(1, 5.48)"
   ]
  },
  {
   "cell_type": "markdown",
   "metadata": {},
   "source": [
    "Then we need to worry about how many CC SN should be occuring in a star-burst region.\n",
    "\n",
    "Following e.g. https://arxiv.org/abs/1006.3899, let's write the initial mass function of stars as:\n",
    "\n",
    "$$ P(m) = C m^\\gamma$$\n",
    "\n",
    "We could take the minimum CC SN mass as $M_{CCSN} = 8 \\,M_\\odot$ and the slope as -2.35 (Saltpeter 1955, see https://arxiv.org/abs/1006.3899). There are obviously more complicated models, but we use this one for simplicity. We also go up to $150 \\, M_\\odot$ as the largest initial stellar mass.\n",
    "\n",
    "In fact, we can't normalise this thing, so let's use the Kroupa (2001) IMF (https://arxiv.org/abs/astro-ph/0009005):"
   ]
  },
  {
   "cell_type": "code",
   "execution_count": 55,
   "metadata": {},
   "outputs": [
    {
     "name": "stdout",
     "output_type": "stream",
     "text": [
      "5.144279118166372\n",
      "1.0000000000000007\n"
     ]
    },
    {
     "name": "stderr",
     "output_type": "stream",
     "text": [
      "/usr/local/lib/python3.6/site-packages/scipy/integrate/quadpack.py:385: IntegrationWarning: The maximum number of subdivisions (50) has been achieved.\n",
      "  If increasing the limit yields no improvement it is advised to analyze \n",
      "  the integrand in order to determine the difficulties.  If the position of a \n",
      "  local difficulty can be determined (singularity, discontinuity) one will \n",
      "  probably gain from splitting up the interval and calling the integrator \n",
      "  on the subranges.  Perhaps a special-purpose integrator should be used.\n",
      "  warnings.warn(msg, IntegrationWarning)\n"
     ]
    }
   ],
   "source": [
    "@np.vectorize\n",
    "def IMF_unnormed(m):\n",
    "    gamma = 1.3\n",
    "    if (m < 0.08):\n",
    "        gamma = 0.3\n",
    "    elif (m > 0.5):\n",
    "        gamma = 2.3\n",
    "    return m**-gamma\n",
    "\n",
    "IMF_norm = quad(IMF_unnormed, 0, 150.)[0]\n",
    "print(IMF_norm)\n",
    "\n",
    "def IMF(m):\n",
    "    return IMF_unnormed(m)/IMF_norm\n",
    "\n",
    "print(quad(IMF, 0, 150.)[0])"
   ]
  },
  {
   "cell_type": "code",
   "execution_count": 56,
   "metadata": {},
   "outputs": [
    {
     "name": "stdout",
     "output_type": "stream",
     "text": [
      "0.7787329894962589\n"
     ]
    },
    {
     "name": "stderr",
     "output_type": "stream",
     "text": [
      "/usr/local/lib/python3.6/site-packages/scipy/integrate/quadpack.py:385: IntegrationWarning: The maximum number of subdivisions (50) has been achieved.\n",
      "  If increasing the limit yields no improvement it is advised to analyze \n",
      "  the integrand in order to determine the difficulties.  If the position of a \n",
      "  local difficulty can be determined (singularity, discontinuity) one will \n",
      "  probably gain from splitting up the interval and calling the integrator \n",
      "  on the subranges.  Perhaps a special-purpose integrator should be used.\n",
      "  warnings.warn(msg, IntegrationWarning)\n"
     ]
    }
   ],
   "source": [
    "# Average stellar mass\n",
    "M_bar = quad(lambda x: IMF(x)*x, 0, 150.)[0]\n",
    "print(M_bar)"
   ]
  },
  {
   "cell_type": "code",
   "execution_count": 57,
   "metadata": {},
   "outputs": [
    {
     "name": "stdout",
     "output_type": "stream",
     "text": [
      "0.009794755875599224\n"
     ]
    }
   ],
   "source": [
    "#Fraction of stars ending in CC SN\n",
    "frac_CCSN = quad(lambda x: IMF(x), 8., 150.)[0]\n",
    "print(frac_CCSN)"
   ]
  },
  {
   "cell_type": "markdown",
   "metadata": {},
   "source": [
    "Now for the star formation rate (see e.g. https://arxiv.org/abs/0906.3688)\n",
    "\n",
    "Typical values in the range $0.1 \\,M_\\odot\\,\\mathrm{yr}^{-1}$ - $1000 \\,M_\\odot\\,\\mathrm{yr}^{-1}$ - we then have to divide by the average mass of a star $\\bar{M}$ to obtain the rate of star formation (in stars per year). We then finally multiply by the fraction of stars which go CC SN to get the rate of CC SN."
   ]
  },
  {
   "cell_type": "code",
   "execution_count": 58,
   "metadata": {},
   "outputs": [],
   "source": [
    "import matplotlib.colors as colors"
   ]
  },
  {
   "cell_type": "code",
   "execution_count": 59,
   "metadata": {},
   "outputs": [
    {
     "name": "stdout",
     "output_type": "stream",
     "text": [
      "['$10^{6}$', '', '', '', '', '$10^{7}$', '', '', '', '', '$10^{8}$']\n"
     ]
    },
    {
     "name": "stderr",
     "output_type": "stream",
     "text": [
      "/usr/local/lib/python3.6/site-packages/matplotlib/font_manager.py:1328: UserWarning: findfont: Font family ['serif'] not found. Falling back to DejaVu Sans\n",
      "  (prop.get_family(), self.defaultFamily[fontext]))\n",
      "/usr/local/lib/python3.6/site-packages/matplotlib/font_manager.py:1328: UserWarning: findfont: Font family ['serif'] not found. Falling back to DejaVu Sans\n",
      "  (prop.get_family(), self.defaultFamily[fontext]))\n"
     ]
    },
    {
     "data": {
      "image/png": "[encoded data removed]",
      "text/plain": [
       "<Figure size 504x360 with 2 Axes>"
      ]
     },
     "metadata": {},
     "output_type": "display_data"
    }
   ],
   "source": [
    "N_D = 200\n",
    "N_N = 200\n",
    "\n",
    "D_star_list = np.geomspace(1e-3, 1000, N_N)\n",
    "N_star_list = np.geomspace(1e0, 1e9, N_D)\n",
    "\n",
    "N_grid, D_grid = np.meshgrid(N_star_list, D_star_list, indexing='ij')\n",
    "\n",
    "N_tilde_grid = calcNbar(N_grid, D_grid)\n",
    "\n",
    "plt.figure(figsize=(7,5))\n",
    "\n",
    "plt.axhline(50, linestyle='--', color='black', zorder=5)\n",
    "plt.text(20, 55 , \"LMC\", color='black', ha='left', va='bottom' )\n",
    "\n",
    "plt.axhline(6.9, linestyle='--', color='black', zorder=5)\n",
    "plt.text(20, 5.5, \"NGC 3603\", color='black', ha='left', va='top' )\n",
    "\n",
    "plt.axhline(8.12, linestyle='--', color='black', zorder=5)\n",
    "plt.text(20, 8.7, \"GC\", color='black', ha='left', va='bottom' )\n",
    "\n",
    "#Ten megayears\n",
    "plt.axvspan((0.1/M_bar)*frac_CCSN*10e6, (1e3/M_bar)*frac_CCSN*10e6, color='grey', alpha=0.5, zorder=0)\n",
    "plt.text(2.0e4, 0.02, \n",
    "         \"Star Formation Rate:\\n$[0.1, 1000]\\\\,M_\\\\odot \\\\,\\\\mathrm{yr}^{-1}$\\n$\\\\Delta t_\\\\mathrm{starburst} = 10\\\\,\\\\mathrm{Myr}$\",\n",
    "         color='dimgray', ha='left', va='top' ,fontsize=14)\n",
    "\n",
    "Nlevels = 11\n",
    "plt.contourf(N_grid, D_grid, N_tilde_grid, levels=np.geomspace(1e6, 1e8, Nlevels), \n",
    "             zorder=4,cmap=plt.get_cmap('viridis'),norm=colors.LogNorm())\n",
    "\n",
    "ax = plt.gca()\n",
    "ax.set_xscale('log')\n",
    "ax.set_yscale('log')\n",
    "\n",
    "cb = plt.colorbar()\n",
    "cb.set_label(r'$\\tilde{N}$', rotation=0.5, labelpad = 8)\n",
    "\n",
    "cb.set_ticks(np.geomspace(1e6, 1e8, Nlevels))\n",
    "\n",
    "cbticklabs = [r'' for i in range(int(Nlevels))]\n",
    "cbticklabs[0] = r\"$10^{6}$\"\n",
    "cbticklabs[5] = r\"$10^{7}$\"\n",
    "cbticklabs[-1] = r\"$10^{8}$\"\n",
    "print(cbticklabs)\n",
    "cb.set_ticklabels(cbticklabs)\n",
    "\n",
    "plt.xlabel(r\"Number of burst CC SN, $N_\\star$\")\n",
    "plt.ylabel(r\"Distance to burst region, $D_\\star$ [kpc]\")\n",
    "\n",
    "plt.xlim(1e0, 1e9)\n",
    "plt.xticks([1e0,1e1, 1e2, 1e3, 1e4, 1e5, 1e6, 1e7, 1e8, 1e9])\n",
    "plt.gca().tick_params(axis='x', which='major', pad=8)\n",
    "\n",
    "# plt.savefig(\"../plots/Burst_parameters.pdf\", bbox_inches='tight')\n",
    "\n",
    "plt.show()"
   ]
  },
  {
   "cell_type": "markdown",
   "metadata": {},
   "source": [
    "#### Plotting the star-burst in terms of a benchmark"
   ]
  },
  {
   "cell_type": "code",
   "execution_count": 60,
   "metadata": {},
   "outputs": [
    {
     "name": "stderr",
     "output_type": "stream",
     "text": [
      "/usr/local/lib/python3.6/site-packages/matplotlib/font_manager.py:1328: UserWarning: findfont: Font family ['serif'] not found. Falling back to DejaVu Sans\n",
      "  (prop.get_family(), self.defaultFamily[fontext]))\n"
     ]
    },
    {
     "data": {
      "image/png": "[encoded data removed]",
      "text/plain": [
       "<Figure size 504x360 with 1 Axes>"
      ]
     },
     "metadata": {},
     "output_type": "display_data"
    }
   ],
   "source": [
    "plt.figure(figsize=(7,5))\n",
    "\n",
    "#plt.axhline(2.3e-2, linestyle='--', color='grey')\n",
    "#plt.axhline(3.2e-2, linestyle='--', color='grey')\n",
    "\n",
    "#plt.plot(tstar1, Ntilde1, 'o')\n",
    "for C in [0.001, 0.01, 0.1, 1.0]:\n",
    "#for C in [ 0.01]:\n",
    "    ts, Nt = GetNmin(C238=C)\n",
    "    Nt *= 4*np.pi*(10)**2*Flux_Gal\n",
    "    plt.step(ts, Nt, where='mid')#,label=r\"$C_{238}$ = \" + str(C) + \" ppb\")\n",
    "\n",
    "plt.xlabel(r'Burst look-back time $t_\\star$ [Gyr]')\n",
    "plt.ylabel(r'Minimum Detectable $N_\\star^{10\\,\\mathrm{kpc}}$')\n",
    "#plt.legend(loc='upper left')\n",
    "\n",
    "A = 0.95*4*np.pi*(10)**2*Flux_Gal\n",
    "#$C_{238}$ = \n",
    "plt.text(0.98, A*2.4e8, \"1 ppb\", va='bottom',ha='right')\n",
    "plt.text(0.98, A*7.9e7, \"0.1 ppb\", va='bottom',ha='right')\n",
    "plt.text(0.98, A*2.9e7, \"0.01 ppb\", va='bottom',ha='right',bbox=dict(facecolor='white', edgecolor='None'))\n",
    "plt.text(0.98, A*1.1e7, \"0.001 ppb\", va='bottom',ha='right')\n",
    "\n",
    "#plt.text(0.05, 0.95, \"Epsomite, M = 100 g, $t_\\mathrm{age} = 1$ Gyr\", \n",
    "#            va='top',ha='left', transform=plt.gca().transAxes)\n",
    "#$C_{238} = 0.01$ ppb\n",
    "plt.text(0.95, 0.05, \"Epsomite, M = 100 g\\n10 samples, $\\\\Delta t_\\\\mathrm{age} = 0.1$ Gyr\", \n",
    "            va='bottom',ha='right', transform=plt.gca().transAxes)\n",
    "\n",
    "plt.text(0.3, 0.6*2.3*3.1e7, r\"$\\dot{N}_\\mathrm{gal}^\\mathrm{CC} \\times 1\\,\\mathrm{Gyr}$\" ,  va='bottom',ha='center', color='grey')\n",
    "plt.axhline(2.3e7*4*np.pi*(10)**2*Flux_Gal, color='grey', linestyle='--', zorder=0)\n",
    "\n",
    "#------------\n",
    "\n",
    "plt.gca().set_yscale('log')\n",
    "\n",
    "plt.xlim(0,1)\n",
    "plt.ylim(5e6, 2e9)\n",
    "#plt.ylim(5e-3, 1)\n",
    "#plt.gca().tick_params(axis='x', which='major', pad=8)\n",
    "\n",
    "# plt.savefig('../plots/N10kpc_vs_t_star.pdf', bbox_inches='tight')\n",
    "plt.show()"
   ]
  },
  {
   "cell_type": "code",
   "execution_count": 61,
   "metadata": {},
   "outputs": [
    {
     "name": "stderr",
     "output_type": "stream",
     "text": [
      "/usr/local/lib/python3.6/site-packages/matplotlib/font_manager.py:1328: UserWarning: findfont: Font family ['serif'] not found. Falling back to DejaVu Sans\n",
      "  (prop.get_family(), self.defaultFamily[fontext]))\n"
     ]
    },
    {
     "data": {
      "image/png": "[encoded data removed]",
      "text/plain": [
       "<Figure size 504x360 with 2 Axes>"
      ]
     },
     "metadata": {},
     "output_type": "display_data"
    }
   ],
   "source": [
    "N_D = 200\n",
    "N_N = 200\n",
    "\n",
    "D_star_list = np.geomspace(1e-3, 1000, N_N)\n",
    "N_star_list = np.geomspace(1e0, 1e9, N_D)\n",
    "\n",
    "N_grid, D_grid = np.meshgrid(N_star_list, D_star_list, indexing='ij')\n",
    "\n",
    "N_tilde_grid = calcNbar(N_grid, D_grid)*4*np.pi*(10)**2*Flux_Gal\n",
    "\n",
    "plt.figure(figsize=(7,5))\n",
    "\n",
    "plt.axhline(50, linestyle='--', color='black', zorder=5)\n",
    "plt.text(20, 55 , \"LMC\", color='black', ha='left', va='bottom' )\n",
    "\n",
    "plt.axhline(6.9, linestyle='--', color='black', zorder=5)\n",
    "plt.text(20, 5.5, \"NGC 3603\", color='black', ha='left', va='top' )\n",
    "\n",
    "plt.axhline(8.12, linestyle='--', color='black', zorder=5)\n",
    "plt.text(20, 8.7, \"GC\", color='black', ha='left', va='bottom' )\n",
    "\n",
    "#Ten megayears\n",
    "plt.axvspan((0.1/M_bar)*frac_CCSN*10e6, (1e3/M_bar)*frac_CCSN*10e6, color='grey', alpha=0.5, zorder=0)\n",
    "plt.text(2.0e4, 0.02, \n",
    "         \"Star Formation Rate:\\n$[0.1, 1000]\\\\,M_\\\\odot \\\\,\\\\mathrm{yr}^{-1}$\\n$\\\\Delta t_\\\\mathrm{starburst} = 10\\\\,\\\\mathrm{Myr}$\",\n",
    "         color='dimgray', ha='left', va='top' ,fontsize=14)\n",
    "\n",
    "Nlevels = 11\n",
    "plt.contourf(N_grid, D_grid, N_tilde_grid, levels=np.geomspace(1e7, 1e9, Nlevels), \n",
    "             zorder=4,cmap=plt.get_cmap('viridis'),norm=colors.LogNorm())\n",
    "\n",
    "ax = plt.gca()\n",
    "ax.set_xscale('log')\n",
    "ax.set_yscale('log')\n",
    "\n",
    "cb = plt.colorbar()\n",
    "cb.set_label(r'Number of CC SN at 10 kpc, $N_\\star^{10\\,\\mathrm{kpc}}$',  labelpad = 8)#,rotation=0.5)\n",
    "\n",
    "cb.set_ticks(np.geomspace(1e7, 1e9, Nlevels))\n",
    "\n",
    "cbticklabs = [r'' for i in range(int(Nlevels))]\n",
    "cbticklabs[0] = r\"$10^{7}$\"\n",
    "cbticklabs[5] = r\"$10^{8}$\"\n",
    "cbticklabs[-1] = r\"$10^{9}$\"\n",
    "#print(cbticklabs)\n",
    "cb.set_ticklabels(cbticklabs)\n",
    "\n",
    "plt.xlabel(r\"Number of burst CC SN, $N_\\star$\")\n",
    "plt.ylabel(r\"Distance to burst region, $D_\\star$ [kpc]\")\n",
    "\n",
    "plt.xlim(1e0, 1e9)\n",
    "plt.xticks([1e0, 1e1, 1e2, 1e3, 1e4, 1e5, 1e6, 1e7, 1e8, 1e9])\n",
    "plt.gca().tick_params(axis='x', which='major', pad=8)\n",
    "\n",
    "plt.tick_params(right=True,top=True)\n",
    "plt.tick_params(which='minor',top=True,right=True)\n",
    "\n",
    "# plt.savefig(\"../plots/Burst_parameters_N10kpc.pdf\", bbox_inches='tight')\n",
    "\n",
    "plt.show()"
   ]
  },
  {
   "cell_type": "markdown",
   "metadata": {},
   "source": [
    "#### Time-evolution Comparison\n",
    "\n",
    "https://arxiv.org/pdf/1901.07564.pdf\n",
    "\n",
    "Gaussian component: $\\mu = 2.57 \\,\\text {Gyr}$ and $\\sigma = 1.25 \\, \\mathrm { Gyr }$"
   ]
  },
  {
   "cell_type": "code",
   "execution_count": 62,
   "metadata": {},
   "outputs": [],
   "source": [
    "def SFR_Mor(t):\n",
    "    \n",
    "    B = 0.722\n",
    "    tau = 10/(np.log(11.4/B))\n",
    "    expo =  B*np.exp(t/tau)\n",
    "    \n",
    "    sig = 1.25\n",
    "    mu = 2.57\n",
    "    A = (8.9 - B*np.exp(mu/tau))\n",
    "    Gauss = A*np.exp(-0.5*(t - mu)**2/sig**2)\n",
    "    \n",
    "    return Gauss + expo"
   ]
  },
  {
   "cell_type": "code",
   "execution_count": 63,
   "metadata": {},
   "outputs": [
    {
     "name": "stderr",
     "output_type": "stream",
     "text": [
      "/usr/local/lib/python3.6/site-packages/matplotlib/font_manager.py:1328: UserWarning: findfont: Font family ['serif'] not found. Falling back to DejaVu Sans\n",
      "  (prop.get_family(), self.defaultFamily[fontext]))\n"
     ]
    },
    {
     "data": {
      "image/png": "[encoded data removed]",
      "text/plain": [
       "<Figure size 432x288 with 1 Axes>"
      ]
     },
     "metadata": {},
     "output_type": "display_data"
    }
   ],
   "source": [
    "tlist = np.linspace(0, 10, 100)\n",
    "\n",
    "plt.figure()\n",
    "\n",
    "plt.plot(tlist, SFR_Mor(tlist))\n",
    "\n",
    "plt.xlim(10, 0) \n",
    "\n",
    "plt.xlabel(r\"Age [Gyr]\")\n",
    "\n",
    "plt.ylabel(r\"SFR [$M_\\odot$ Gyr$^{-1}$ pc$^{-2}$]\")\n",
    "\n",
    "plt.show()\n"
   ]
  },
  {
   "cell_type": "code",
   "execution_count": 64,
   "metadata": {},
   "outputs": [
    {
     "name": "stderr",
     "output_type": "stream",
     "text": [
      "/usr/local/lib/python3.6/site-packages/matplotlib/font_manager.py:1328: UserWarning: findfont: Font family ['serif'] not found. Falling back to DejaVu Sans\n",
      "  (prop.get_family(), self.defaultFamily[fontext]))\n"
     ]
    },
    {
     "data": {
      "image/png": "[encoded data removed]",
      "text/plain": [
       "<Figure size 432x288 with 1 Axes>"
      ]
     },
     "metadata": {},
     "output_type": "display_data"
    }
   ],
   "source": [
    "tlist = np.linspace(0, 10, 100)\n",
    "\n",
    "plt.figure()\n",
    "\n",
    "plt.plot(tlist, SFR_Mor(tlist))\n",
    "\n",
    "plt.xlim(0, 1) \n",
    "\n",
    "plt.xlabel(r\"Age [Gyr]\")\n",
    "\n",
    "plt.ylabel(r\"SFR [$M_\\odot$ Gyr$^{-1}$ pc$^{-2}$]\")\n",
    "\n",
    "plt.show()"
   ]
  },
  {
   "cell_type": "markdown",
   "metadata": {},
   "source": [
    "**Next steps:**\n",
    "\n",
    " - Cosmological SFR with z\n",
    " - Plot average supernova rate measured in each rock...\n",
    " - Work out how to fit average SN rate with constant"
   ]
  },
  {
   "cell_type": "markdown",
   "metadata": {},
   "source": [
    "#### Need to calculate the best fitting constant rate\n",
    " \n",
    "- The points we are fitting are med, we will fit a Gaussian \n",
    "$$ min(\\frac{R - R_{obs}}{\\sigma^2})$$\n",
    "where $R_{obs}$ is the med list i.e. we are pretending the observation is that of an increasing rate and sigma is the error on the observation"
   ]
  },
  {
   "cell_type": "markdown",
   "metadata": {},
   "source": [
    "Can this upward trend be fitted well with a constant value?\n",
    "\n",
    "Do the error bars overlap? First fit the best fitting constant rate?\n",
    "\n",
    "The final data point in the Mor+ constraints *is* the best estimate of the constant rate!\n",
    "\n",
    "Correct likelihood is: P(N1 in short exposure | R0) x P(N2 in long exposure | R0, N1 in short exposure)"
   ]
  },
  {
   "cell_type": "code",
   "execution_count": 65,
   "metadata": {},
   "outputs": [
    {
     "name": "stdout",
     "output_type": "stream",
     "text": [
      "30000000.0\n",
      "[31611858.80509397 33346633.55161702 35208622.58127359 37201145.93772465\n",
      " 39326357.31766345 41585059.72776814 43976530.99337796 46498365.69847445\n",
      " 49146340.3400015  51914308.41356225]\n"
     ]
    },
    {
     "name": "stderr",
     "output_type": "stream",
     "text": [
      "/usr/local/lib/python3.6/site-packages/matplotlib/font_manager.py:1328: UserWarning: findfont: Font family ['serif'] not found. Falling back to DejaVu Sans\n",
      "  (prop.get_family(), self.defaultFamily[fontext]))\n"
     ]
    },
    {
     "data": {
      "image/png": "[encoded data removed]",
      "text/plain": [
       "<Figure size 504x360 with 1 Axes>"
      ]
     },
     "metadata": {},
     "output_type": "display_data"
    },
    {
     "name": "stdout",
     "output_type": "stream",
     "text": [
      "4.977660702355584\n"
     ]
    }
   ],
   "source": [
    "t_list = np.linspace(0.1, 1, 10)\n",
    "\n",
    "R_list_Mor = np.array([quad(SFR_Mor, 0, t_list[i])[0]/(t_list[i]) for i in range(10)])\n",
    "R_list_Mor *= R_bench_Gyr/SFR_Mor(0)\n",
    "print(R_bench_Gyr)\n",
    "print(R_list_Mor)\n",
    "print(Distinguish_sig(R_list_Mor, C238=0.001, do_plot=True,filename=\"RateRecon_Mor_C=0.001ppb.pdf\"))\n"
   ]
  },
  {
   "cell_type": "code",
   "execution_count": 66,
   "metadata": {},
   "outputs": [
    {
     "name": "stdout",
     "output_type": "stream",
     "text": [
      "0.9646678018460402\n"
     ]
    }
   ],
   "source": [
    "H0 = 67.4 #(km/s)/Mpc\n",
    "H0_peryr = H0*(3.24e-20)*(60*60*24*365) #1/yr\n",
    "\n",
    "rho_crit = 4.87235e-6/37.96 #M_sun pc^-3\n",
    "#print(rho_crit*1e18)\n",
    "Omega_L = 0.689\n",
    "Omega_m = 0.315\n",
    "Omega_r = 9.24e-5\n",
    "\n",
    "def Hubble(z):\n",
    "    return H0*np.sqrt(Omega_L + Omega_m*(1+z)**3 + Omega_r*(1+z)**4)\n",
    "\n",
    "def Hubble_peryr(z):\n",
    "    return Hubble(z)*H0_peryr/H0\n",
    "\n",
    "def t_univ(z):    \n",
    "    integ = lambda x: 1.0/((1+x)*Hubble_peryr(x))\n",
    "    return quad(integ, z, np.inf)[0]\n",
    "\n",
    "zlist = np.linspace(0, 5, 201)\n",
    "tuniv_list = np.array([t_univ(z) for z in zlist])\n",
    "#print(tuniv_list)\n",
    "z_of_t = interpolate.interp1d(tuniv_list[0] - tuniv_list, zlist)\n",
    "print(z_of_t(13.7e9-5.9e9))"
   ]
  },
  {
   "cell_type": "code",
   "execution_count": 67,
   "metadata": {},
   "outputs": [],
   "source": [
    "#t in Gyr\n",
    "def SFR_Cosmo(t):\n",
    "    z = z_of_t(t*1e9)\n",
    "    return 0.015*(1+z)**2.7/(1 + ((1+z)/2.9)**5.6)"
   ]
  },
  {
   "cell_type": "code",
   "execution_count": 68,
   "metadata": {},
   "outputs": [
    {
     "name": "stdout",
     "output_type": "stream",
     "text": [
      "30000000.0\n",
      "[30284220.3833944  30570642.94171859 30859273.39928599 31150656.07505179\n",
      " 31447791.56947312 31749570.85685509 32055024.61559876 32365204.71941608\n",
      " 32680660.58319353 33000592.54705195]\n"
     ]
    },
    {
     "name": "stderr",
     "output_type": "stream",
     "text": [
      "/usr/local/lib/python3.6/site-packages/matplotlib/font_manager.py:1328: UserWarning: findfont: Font family ['serif'] not found. Falling back to DejaVu Sans\n",
      "  (prop.get_family(), self.defaultFamily[fontext]))\n"
     ]
    },
    {
     "data": {
      "image/png": "[encoded data removed]",
      "text/plain": [
       "<Figure size 504x360 with 1 Axes>"
      ]
     },
     "metadata": {},
     "output_type": "display_data"
    },
    {
     "name": "stdout",
     "output_type": "stream",
     "text": [
      "0.6542899613317271\n"
     ]
    }
   ],
   "source": [
    "t_list = np.linspace(0.1, 1, 10)\n",
    "\n",
    "R_list_Cosmo = np.array([quad(SFR_Cosmo, 0, t_list[i])[0]/(t_list[i]) for i in range(10)])\n",
    "R_list_Cosmo *= R_bench_Gyr/SFR_Cosmo(0)\n",
    "print(R_bench_Gyr)\n",
    "print(R_list_Cosmo)\n",
    "print(Distinguish_sig(R_list_Cosmo, C238=0.001, do_plot=True, filename=\"RateRecon_Cosmo_C=0.001ppb.pdf\"))"
   ]
  },
  {
   "cell_type": "code",
   "execution_count": null,
   "metadata": {},
   "outputs": [],
   "source": [
    "Clist = np.array([0.001, 0.01, 0.1, 1.0])\n",
    "siglist_Mor = np.array([Distinguish_sig(R_list_Mor, C238=C, do_plot=False) for C in Clist])\n",
    "siglist_Cosmo = np.array([Distinguish_sig(R_list_Cosmo, C238=C, do_plot=False) for C in Clist])"
   ]
  },
  {
   "cell_type": "code",
   "execution_count": null,
   "metadata": {},
   "outputs": [],
   "source": [
    "plt.figure(figsize=(7,5))\n",
    "\n",
    "plt.semilogx(Clist, siglist_Mor, 's', label='Mor et al. SFR (1901.07564)')\n",
    "plt.semilogx(Clist, siglist_Cosmo, 'o', label='Cosmological SFR (1403.0007)')\n",
    "\n",
    "\n",
    "plt.legend(fontsize=15.0)\n",
    "plt.xlabel(r'Uranium-238 Concentration [ppb]')\n",
    "plt.ylabel(r'Discrimination Significance [$\\sigma$]')\n",
    "\n",
    "plt.gca().tick_params(axis='x', which='major', pad=8)\n",
    "# plt.savefig(\"../plots/TimeDependent.pdf\", bbox_inches='tight')\n",
    "plt.show()\n"
   ]
  },
  {
   "cell_type": "code",
   "execution_count": null,
   "metadata": {},
   "outputs": [],
   "source": []
  }
 ],
 "metadata": {
  "kernelspec": {
   "display_name": "Python 3",
   "language": "python",
   "name": "python3"
  },
  "language_info": {
   "codemirror_mode": {
    "name": "ipython",
    "version": 3
   },
   "file_extension": ".py",
   "mimetype": "text/x-python",
   "name": "python",
   "nbconvert_exporter": "python",
   "pygments_lexer": "ipython3",
   "version": "3.6.5"
  }
 },
 "nbformat": 4,
 "nbformat_minor": 2
}
